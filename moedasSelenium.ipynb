{
 "cells": [
  {
   "cell_type": "code",
   "execution_count": 22,
   "metadata": {},
   "outputs": [],
   "source": [
    "# Importando bibliotecas para realizarmos a raspagem de telas\n",
    "\n",
    "\n",
    "from selenium import webdriver\n",
    "import time\n",
    "from bs4 import BeautifulSoup\n",
    "\n",
    "from selenium.webdriver.firefox.firefox_profile import FirefoxProfile\n",
    "\n",
    "from selenium.webdriver.common.keys import Keys\n",
    "from selenium.webdriver.common.by import By\n",
    "\n",
    "import numpy as np\n",
    "import pandas as pd\n",
    "pd.options.display.max_columns = None\n",
    "pd.options.display.max_rows = None\n",
    "from datetime import date, timedelta\n",
    "from selenium.webdriver.support.ui import WebDriverWait\n",
    "from selenium.webdriver.support import expected_conditions as EC\n",
    "\n",
    "#from selenium.webdriver.chrome.service import Service\n",
    "#from webdriver_manager.chrome import ChromeDriverManager\n",
    "#from selenium.webdriver.chrome import ChromeDriverManager\n",
    "\n"
   ]
  },
  {
   "cell_type": "code",
   "execution_count": 13,
   "metadata": {},
   "outputs": [],
   "source": [
    "def waitSecs(function, pathButton, timeToTry=30):\n",
    "    count = 0\n",
    "    while count < timeToTry:\n",
    "        try:\n",
    "            espera = function(pathButton)\n",
    "            break\n",
    "        except:\n",
    "            time.sleep(1)\n",
    "            count = count+1\n",
    "            print('loading...')\n",
    "        \n",
    "    return espera\n"
   ]
  },
  {
   "cell_type": "code",
   "execution_count": null,
   "metadata": {},
   "outputs": [],
   "source": [
    "# Esse trecho de código não funcionou, como podemos verificar à seguir, temos um erro e, vou tentar corrigir ele depois.\n",
    "#def crwl():\n",
    "#\n",
    "#    profile = FirefoxProfile()\n",
    "#    site = 'http://www.b3.com.br/pt_br/market-data-e-indices/servicos-de-dados/market-data/consultas/mercado-de-derivativos/indicadores/indicadores-financeiros/'\n",
    "#    driver = webdriver.Firefox(firefox_profile=profile)\n",
    "#    driver.get(site)\n",
    "#\n",
    "#    buscar = waitSecs(driver.find_element_by_xpath, \"/html/body/app-root/app-financial-indicators/div/form/div/div/div/div/div[2]/div[3]/div/div/h4/text()\", 30)\n",
    "#    dolar = buscar.text\n",
    "#    print(dolar)\n",
    "#    driver.close()\n",
    "#crwl()"
   ]
  },
  {
   "cell_type": "code",
   "execution_count": 40,
   "metadata": {},
   "outputs": [
    {
     "name": "stdout",
     "output_type": "stream",
     "text": [
      "loading...\n",
      "loading...\n",
      "loading...\n",
      "loading...\n",
      "loading...\n",
      "loading...\n",
      "loading...\n",
      "loading...\n",
      "loading...\n",
      "loading...\n",
      "loading...\n",
      "loading...\n",
      "loading...\n",
      "loading...\n",
      "loading...\n",
      "loading...\n",
      "loading...\n",
      "loading...\n",
      "loading...\n",
      "loading...\n",
      "loading...\n",
      "loading...\n",
      "loading...\n",
      "loading...\n",
      "loading...\n",
      "loading...\n",
      "loading...\n",
      "loading...\n",
      "loading...\n",
      "loading...\n"
     ]
    },
    {
     "ename": "UnboundLocalError",
     "evalue": "cannot access local variable 'espera' where it is not associated with a value",
     "output_type": "error",
     "traceback": [
      "\u001b[0;31m---------------------------------------------------------------------------\u001b[0m",
      "\u001b[0;31mUnboundLocalError\u001b[0m                         Traceback (most recent call last)",
      "Cell \u001b[0;32mIn[40], line 12\u001b[0m\n\u001b[1;32m      9\u001b[0m url \u001b[38;5;241m=\u001b[39m \u001b[38;5;124m'\u001b[39m\u001b[38;5;124mhttps://www.bcb.gov.br/\u001b[39m\u001b[38;5;124m'\u001b[39m\n\u001b[1;32m     10\u001b[0m navegador\u001b[38;5;241m.\u001b[39mget(url)\n\u001b[0;32m---> 12\u001b[0m buscar \u001b[38;5;241m=\u001b[39m \u001b[43mwaitSecs\u001b[49m\u001b[43m(\u001b[49m\u001b[43mnavegador\u001b[49m\u001b[38;5;241;43m.\u001b[39;49m\u001b[43mfind_element\u001b[49m\u001b[43m(\u001b[49m\u001b[43mby\u001b[49m\u001b[38;5;241;43m=\u001b[39;49m\u001b[43mBy\u001b[49m\u001b[38;5;241;43m.\u001b[39;49m\u001b[43mXPATH\u001b[49m\u001b[43m,\u001b[49m\u001b[43m \u001b[49m\u001b[43mvalue\u001b[49m\u001b[38;5;241;43m=\u001b[39;49m\u001b[38;5;124;43m\"\u001b[39;49m\u001b[38;5;124;43m/html/body/app-root/app-root/div/div/main/dynamic-comp/div/div/div/div[1]/div[1]/div/cotacao/table[1]/tbody/tr[1]/td[2]/span\u001b[39;49m\u001b[38;5;124;43m\"\u001b[39;49m\u001b[43m)\u001b[49m\u001b[43m,\u001b[49m\u001b[43m \u001b[49m\u001b[38;5;241;43m10\u001b[39;49m\u001b[43m)\u001b[49m\n\u001b[1;32m     13\u001b[0m dolar \u001b[38;5;241m=\u001b[39m buscar\u001b[38;5;241m.\u001b[39mtext\n\u001b[1;32m     14\u001b[0m \u001b[38;5;28mprint\u001b[39m(dolar)\n",
      "Cell \u001b[0;32mIn[13], line 12\u001b[0m, in \u001b[0;36mwaitSecs\u001b[0;34m(function, pathButton, timeToTry)\u001b[0m\n\u001b[1;32m      9\u001b[0m         count \u001b[38;5;241m=\u001b[39m count\u001b[38;5;241m+\u001b[39m\u001b[38;5;241m1\u001b[39m\n\u001b[1;32m     10\u001b[0m         \u001b[38;5;28mprint\u001b[39m(\u001b[38;5;124m'\u001b[39m\u001b[38;5;124mloading...\u001b[39m\u001b[38;5;124m'\u001b[39m)\n\u001b[0;32m---> 12\u001b[0m \u001b[38;5;28;01mreturn\u001b[39;00m \u001b[43mespera\u001b[49m\n",
      "\u001b[0;31mUnboundLocalError\u001b[0m: cannot access local variable 'espera' where it is not associated with a value"
     ]
    }
   ],
   "source": [
    "\n",
    "options = webdriver.ChromeOptions();\n",
    "options.add_argument('headless');\n",
    "options.add_argument('--headless=new');\n",
    "\n",
    "#navegador = webdriver.Chrome(executable_path='path/chromedriver', options = options)\n",
    "\n",
    "# Na versão que estou usando do Google Chrome, não preciso declarar onde instalei o chrome driver.\n",
    "navegador = webdriver.Chrome()\n",
    "url = 'https://www.bcb.gov.br/'\n",
    "navegador.get(url)\n",
    "\n",
    "buscar = waitSecs(navegador.find_element(by=By.XPATH, value=\"/html/body/app-root/app-root/div/div/main/dynamic-comp/div/div/div/div[1]/div[1]/div/cotacao/table[1]/tbody/tr[1]/td[2]/span\"), 10)\n",
    "dolar = buscar.text\n",
    "print(dolar)\n",
    "\n",
    "navegador.close()\n",
    "#chrome_options.add_argument(\"--incognito\")\n",
    "#chrome_options.add_experimental_option(\"detach\", True)\n",
    "\n",
    "\n"
   ]
  },
  {
   "cell_type": "code",
   "execution_count": null,
   "metadata": {},
   "outputs": [],
   "source": []
  }
 ],
 "metadata": {
  "kernelspec": {
   "display_name": "Python 3",
   "language": "python",
   "name": "python3"
  },
  "language_info": {
   "codemirror_mode": {
    "name": "ipython",
    "version": 3
   },
   "file_extension": ".py",
   "mimetype": "text/x-python",
   "name": "python",
   "nbconvert_exporter": "python",
   "pygments_lexer": "ipython3",
   "version": "3.12.4"
  }
 },
 "nbformat": 4,
 "nbformat_minor": 2
}
